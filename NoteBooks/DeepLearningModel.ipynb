{
  "nbformat": 4,
  "nbformat_minor": 0,
  "metadata": {
    "colab": {
      "name": "Untitled26.ipynb",
      "provenance": [],
      "collapsed_sections": []
    },
    "kernelspec": {
      "name": "python3",
      "display_name": "Python 3"
    },
    "language_info": {
      "name": "python"
    },
    "accelerator": "GPU"
  },
  "cells": [
    {
      "cell_type": "code",
      "execution_count": 1,
      "metadata": {
        "id": "Zmdpg8hl5oB1"
      },
      "outputs": [],
      "source": [
        "import numpy as np \n",
        "import pandas as pd\n",
        "import matplotlib.pyplot as plt\n",
        "import seaborn as sns\n",
        "from keras.preprocessing.text import Tokenizer\n",
        "from keras.preprocessing.sequence import pad_sequences\n",
        "from keras.models import Sequential, Model\n",
        "from keras.layers import Dense, Embedding, LSTM, SpatialDropout1D, Flatten, Dropout, Bidirectional, Input, GRU\n",
        "from sklearn.model_selection import train_test_split\n",
        "from keras.utils.np_utils import to_categorical\n",
        "from keras.callbacks import EarlyStopping\n",
        "from keras import optimizers \n",
        "import re\n",
        "import tensorflow as tf \n",
        "from nltk import word_tokenize\n",
        "from google.colab import drive \n",
        "import os\n",
        "from keras import layers"
      ]
    },
    {
      "cell_type": "code",
      "source": [
        "drive.mount('/content/drive')\n",
        "df_path = \"/content/drive/MyDrive/AIM_Task/preprocessed_data.csv\""
      ],
      "metadata": {
        "colab": {
          "base_uri": "https://localhost:8080/"
        },
        "id": "N1YAkgGHqpVp",
        "outputId": "76e62236-6cd3-4a8b-c3bd-5ef3f06fe1eb"
      },
      "execution_count": 2,
      "outputs": [
        {
          "output_type": "stream",
          "name": "stdout",
          "text": [
            "Mounted at /content/drive\n"
          ]
        }
      ]
    },
    {
      "cell_type": "code",
      "source": [
        "df = pd.read_csv(df_path)"
      ],
      "metadata": {
        "id": "EOLUtBAu7c2x"
      },
      "execution_count": 3,
      "outputs": []
    },
    {
      "cell_type": "code",
      "source": [
        "df"
      ],
      "metadata": {
        "id": "UqGJiKOL7ei6",
        "colab": {
          "base_uri": "https://localhost:8080/",
          "height": 424
        },
        "outputId": "df77aa21-a199-4bb9-c4bb-5f9560227452"
      },
      "execution_count": 4,
      "outputs": [
        {
          "output_type": "execute_result",
          "data": {
            "text/plain": [
              "        dialect                                               text\n",
              "0            10                     اللي حابين يشاركون بالمسابقة  \n",
              "1            10  هل تعلم أنك تشاهد خشمك طوال الوقت لكن عقلك تبر...\n",
              "2            11   شو رح يقول الحريري بدي ك قلبو لسمير ججعج بس ارجع\n",
              "3            13              صح صح اذكر كانو يعبون لنا بترول ببلاش\n",
              "4             9    اساسا ماعندج القدره على الرد ثانيا شو انجازا...\n",
              "...         ...                                                ...\n",
              "458192       13  اللي يحط دعايات في اغاني اليهال ف يوتيوب الله ...\n",
              "458193       17                              قرف دى ملبن بالمكسرات\n",
              "458194       10  حنيتو لشتاء ايه الله يعين اندفنا من الغبار و س...\n",
              "458195       13    بتنتظر كثير لانهم ماهم بكفو يسونها السعايده ...\n",
              "458196        7                     اللي معنا ملوعتبي خاصه العصارة\n",
              "\n",
              "[458197 rows x 2 columns]"
            ],
            "text/html": [
              "\n",
              "  <div id=\"df-d19a164c-fb00-42cc-bc1b-1cd3a38c8c3a\">\n",
              "    <div class=\"colab-df-container\">\n",
              "      <div>\n",
              "<style scoped>\n",
              "    .dataframe tbody tr th:only-of-type {\n",
              "        vertical-align: middle;\n",
              "    }\n",
              "\n",
              "    .dataframe tbody tr th {\n",
              "        vertical-align: top;\n",
              "    }\n",
              "\n",
              "    .dataframe thead th {\n",
              "        text-align: right;\n",
              "    }\n",
              "</style>\n",
              "<table border=\"1\" class=\"dataframe\">\n",
              "  <thead>\n",
              "    <tr style=\"text-align: right;\">\n",
              "      <th></th>\n",
              "      <th>dialect</th>\n",
              "      <th>text</th>\n",
              "    </tr>\n",
              "  </thead>\n",
              "  <tbody>\n",
              "    <tr>\n",
              "      <th>0</th>\n",
              "      <td>10</td>\n",
              "      <td>اللي حابين يشاركون بالمسابقة</td>\n",
              "    </tr>\n",
              "    <tr>\n",
              "      <th>1</th>\n",
              "      <td>10</td>\n",
              "      <td>هل تعلم أنك تشاهد خشمك طوال الوقت لكن عقلك تبر...</td>\n",
              "    </tr>\n",
              "    <tr>\n",
              "      <th>2</th>\n",
              "      <td>11</td>\n",
              "      <td>شو رح يقول الحريري بدي ك قلبو لسمير ججعج بس ارجع</td>\n",
              "    </tr>\n",
              "    <tr>\n",
              "      <th>3</th>\n",
              "      <td>13</td>\n",
              "      <td>صح صح اذكر كانو يعبون لنا بترول ببلاش</td>\n",
              "    </tr>\n",
              "    <tr>\n",
              "      <th>4</th>\n",
              "      <td>9</td>\n",
              "      <td>اساسا ماعندج القدره على الرد ثانيا شو انجازا...</td>\n",
              "    </tr>\n",
              "    <tr>\n",
              "      <th>...</th>\n",
              "      <td>...</td>\n",
              "      <td>...</td>\n",
              "    </tr>\n",
              "    <tr>\n",
              "      <th>458192</th>\n",
              "      <td>13</td>\n",
              "      <td>اللي يحط دعايات في اغاني اليهال ف يوتيوب الله ...</td>\n",
              "    </tr>\n",
              "    <tr>\n",
              "      <th>458193</th>\n",
              "      <td>17</td>\n",
              "      <td>قرف دى ملبن بالمكسرات</td>\n",
              "    </tr>\n",
              "    <tr>\n",
              "      <th>458194</th>\n",
              "      <td>10</td>\n",
              "      <td>حنيتو لشتاء ايه الله يعين اندفنا من الغبار و س...</td>\n",
              "    </tr>\n",
              "    <tr>\n",
              "      <th>458195</th>\n",
              "      <td>13</td>\n",
              "      <td>بتنتظر كثير لانهم ماهم بكفو يسونها السعايده ...</td>\n",
              "    </tr>\n",
              "    <tr>\n",
              "      <th>458196</th>\n",
              "      <td>7</td>\n",
              "      <td>اللي معنا ملوعتبي خاصه العصارة</td>\n",
              "    </tr>\n",
              "  </tbody>\n",
              "</table>\n",
              "<p>458197 rows × 2 columns</p>\n",
              "</div>\n",
              "      <button class=\"colab-df-convert\" onclick=\"convertToInteractive('df-d19a164c-fb00-42cc-bc1b-1cd3a38c8c3a')\"\n",
              "              title=\"Convert this dataframe to an interactive table.\"\n",
              "              style=\"display:none;\">\n",
              "        \n",
              "  <svg xmlns=\"http://www.w3.org/2000/svg\" height=\"24px\"viewBox=\"0 0 24 24\"\n",
              "       width=\"24px\">\n",
              "    <path d=\"M0 0h24v24H0V0z\" fill=\"none\"/>\n",
              "    <path d=\"M18.56 5.44l.94 2.06.94-2.06 2.06-.94-2.06-.94-.94-2.06-.94 2.06-2.06.94zm-11 1L8.5 8.5l.94-2.06 2.06-.94-2.06-.94L8.5 2.5l-.94 2.06-2.06.94zm10 10l.94 2.06.94-2.06 2.06-.94-2.06-.94-.94-2.06-.94 2.06-2.06.94z\"/><path d=\"M17.41 7.96l-1.37-1.37c-.4-.4-.92-.59-1.43-.59-.52 0-1.04.2-1.43.59L10.3 9.45l-7.72 7.72c-.78.78-.78 2.05 0 2.83L4 21.41c.39.39.9.59 1.41.59.51 0 1.02-.2 1.41-.59l7.78-7.78 2.81-2.81c.8-.78.8-2.07 0-2.86zM5.41 20L4 18.59l7.72-7.72 1.47 1.35L5.41 20z\"/>\n",
              "  </svg>\n",
              "      </button>\n",
              "      \n",
              "  <style>\n",
              "    .colab-df-container {\n",
              "      display:flex;\n",
              "      flex-wrap:wrap;\n",
              "      gap: 12px;\n",
              "    }\n",
              "\n",
              "    .colab-df-convert {\n",
              "      background-color: #E8F0FE;\n",
              "      border: none;\n",
              "      border-radius: 50%;\n",
              "      cursor: pointer;\n",
              "      display: none;\n",
              "      fill: #1967D2;\n",
              "      height: 32px;\n",
              "      padding: 0 0 0 0;\n",
              "      width: 32px;\n",
              "    }\n",
              "\n",
              "    .colab-df-convert:hover {\n",
              "      background-color: #E2EBFA;\n",
              "      box-shadow: 0px 1px 2px rgba(60, 64, 67, 0.3), 0px 1px 3px 1px rgba(60, 64, 67, 0.15);\n",
              "      fill: #174EA6;\n",
              "    }\n",
              "\n",
              "    [theme=dark] .colab-df-convert {\n",
              "      background-color: #3B4455;\n",
              "      fill: #D2E3FC;\n",
              "    }\n",
              "\n",
              "    [theme=dark] .colab-df-convert:hover {\n",
              "      background-color: #434B5C;\n",
              "      box-shadow: 0px 1px 3px 1px rgba(0, 0, 0, 0.15);\n",
              "      filter: drop-shadow(0px 1px 2px rgba(0, 0, 0, 0.3));\n",
              "      fill: #FFFFFF;\n",
              "    }\n",
              "  </style>\n",
              "\n",
              "      <script>\n",
              "        const buttonEl =\n",
              "          document.querySelector('#df-d19a164c-fb00-42cc-bc1b-1cd3a38c8c3a button.colab-df-convert');\n",
              "        buttonEl.style.display =\n",
              "          google.colab.kernel.accessAllowed ? 'block' : 'none';\n",
              "\n",
              "        async function convertToInteractive(key) {\n",
              "          const element = document.querySelector('#df-d19a164c-fb00-42cc-bc1b-1cd3a38c8c3a');\n",
              "          const dataTable =\n",
              "            await google.colab.kernel.invokeFunction('convertToInteractive',\n",
              "                                                     [key], {});\n",
              "          if (!dataTable) return;\n",
              "\n",
              "          const docLinkHtml = 'Like what you see? Visit the ' +\n",
              "            '<a target=\"_blank\" href=https://colab.research.google.com/notebooks/data_table.ipynb>data table notebook</a>'\n",
              "            + ' to learn more about interactive tables.';\n",
              "          element.innerHTML = '';\n",
              "          dataTable['output_type'] = 'display_data';\n",
              "          await google.colab.output.renderOutput(dataTable, element);\n",
              "          const docLink = document.createElement('div');\n",
              "          docLink.innerHTML = docLinkHtml;\n",
              "          element.appendChild(docLink);\n",
              "        }\n",
              "      </script>\n",
              "    </div>\n",
              "  </div>\n",
              "  "
            ]
          },
          "metadata": {},
          "execution_count": 4
        }
      ]
    },
    {
      "cell_type": "code",
      "source": [
        "df_copy = df.copy()"
      ],
      "metadata": {
        "id": "tI_0bB8X7guX"
      },
      "execution_count": 5,
      "outputs": []
    },
    {
      "cell_type": "code",
      "source": [
        "X = df_copy['text'].values\n",
        "X_test = X[:20000]\n",
        "X_train = X[20000:]\n",
        "\n",
        "y = pd.get_dummies(df_copy['dialect']).values\n",
        "y_test = y[:20000]\n",
        "y_train = y[20000:]"
      ],
      "metadata": {
        "id": "ZNUC4V107pO2"
      },
      "execution_count": 6,
      "outputs": []
    },
    {
      "cell_type": "code",
      "source": [
        "t = Tokenizer(oov_token='<UNK>')\n",
        "t.fit_on_texts(X_train)\n",
        "t.word_index['<PAD>'] = 0"
      ],
      "metadata": {
        "id": "cBwYFNGurxPD"
      },
      "execution_count": 7,
      "outputs": []
    },
    {
      "cell_type": "code",
      "source": [
        "train_sequences = t.texts_to_sequences(X_train)\n",
        "test_sequences = t.texts_to_sequences(X_test)"
      ],
      "metadata": {
        "id": "2zCEkQjktj_9"
      },
      "execution_count": 8,
      "outputs": []
    },
    {
      "cell_type": "code",
      "source": [
        "# Max number of words in each complaint.\n",
        "MAX_SEQUENCE_LENGTH = 1000\n",
        "\n",
        "X_train = pad_sequences(train_sequences, maxlen=MAX_SEQUENCE_LENGTH)\n",
        "X_test = pad_sequences(test_sequences, maxlen=MAX_SEQUENCE_LENGTH)\n",
        "X_train.shape, X_test.shape"
      ],
      "metadata": {
        "id": "rj_LRtyenLdy",
        "colab": {
          "base_uri": "https://localhost:8080/"
        },
        "outputId": "b2fc6d98-4526-4d00-f27e-47a4a49df08c"
      },
      "execution_count": 9,
      "outputs": [
        {
          "output_type": "execute_result",
          "data": {
            "text/plain": [
              "((438197, 1000), (20000, 1000))"
            ]
          },
          "metadata": {},
          "execution_count": 9
        }
      ]
    },
    {
      "cell_type": "code",
      "source": [
        "print(\"Vocabulary size={}\".format(len(t.word_index)))\n",
        "print(\"Number of Documents={}\".format(t.document_count))"
      ],
      "metadata": {
        "id": "ALtSUw0uCDqj",
        "colab": {
          "base_uri": "https://localhost:8080/"
        },
        "outputId": "6fce6867-4079-4304-cff4-e5fa6501545f"
      },
      "execution_count": 10,
      "outputs": [
        {
          "output_type": "stream",
          "name": "stdout",
          "text": [
            "Vocabulary size=461829\n",
            "Number of Documents=438197\n"
          ]
        }
      ]
    },
    {
      "cell_type": "code",
      "source": [
        "from sklearn.utils import class_weight \n",
        "class_weights = class_weight.compute_class_weight('balanced',\n",
        "                                                   classes = np.unique(df_copy['dialect']),\n",
        "                                                   y = df_copy['dialect'])"
      ],
      "metadata": {
        "id": "oWHLNSS8nIGq"
      },
      "execution_count": 11,
      "outputs": []
    },
    {
      "cell_type": "code",
      "source": [
        "class_weights = dict(enumerate(class_weights))\n",
        "class_weights"
      ],
      "metadata": {
        "id": "sJqTZ0ZwnKja",
        "colab": {
          "base_uri": "https://localhost:8080/"
        },
        "outputId": "8e3c6826-ebf3-41ab-a337-5d4a049ad4f1"
      },
      "execution_count": 12,
      "outputs": [
        {
          "output_type": "execute_result",
          "data": {
            "text/plain": [
              "{0: 2.7531244742471217,\n",
              " 1: 2.56425797208511,\n",
              " 2: 2.2060307556017755,\n",
              " 3: 1.76357135159269,\n",
              " 4: 1.6426010769109434,\n",
              " 5: 1.5729709503113694,\n",
              " 6: 1.5672570427834558,\n",
              " 7: 1.3316273743925973,\n",
              " 8: 0.968180012509086,\n",
              " 9: 0.9680327383970524,\n",
              " 10: 0.9486951732591268,\n",
              " 11: 0.9217289672625154,\n",
              " 12: 0.9116933092972633,\n",
              " 13: 0.8193179339176957,\n",
              " 14: 0.6974270223537327,\n",
              " 15: 0.604511835685694,\n",
              " 16: 0.5819438729113641,\n",
              " 17: 0.441657798752323}"
            ]
          },
          "metadata": {},
          "execution_count": 12
        }
      ]
    },
    {
      "cell_type": "code",
      "source": [
        "EMBEDDING_DIM = 100\n",
        "MAX_NB_WORDS = 10000\n",
        "VOCAB_SIZE = len(t.word_index)\n",
        "VOCAB_SIZE"
      ],
      "metadata": {
        "id": "seRTBnM6nUHS",
        "colab": {
          "base_uri": "https://localhost:8080/"
        },
        "outputId": "d2c78912-acc6-4eb6-8dc5-084432c9bb30"
      },
      "execution_count": 13,
      "outputs": [
        {
          "output_type": "execute_result",
          "data": {
            "text/plain": [
              "461829"
            ]
          },
          "metadata": {},
          "execution_count": 13
        }
      ]
    },
    {
      "cell_type": "code",
      "source": [
        "model = Sequential()\n",
        "model.add(Embedding(VOCAB_SIZE, EMBEDDING_DIM, input_length=X_train.shape[1]))\n",
        "# model.add(SpatialDropout1D(0.4))\n",
        "\n",
        "# model.add(layers.Conv1D(128, 5, activation='relu'))\n",
        "# model.add(layers.GlobalMaxPooling1D())\n",
        "\n",
        "model.add(LSTM(units=128, return_sequences=True, return_state=False))\n",
        "model.add(Dropout(0.2))\n",
        "\n",
        "model.add(LSTM(units=64, return_sequences=True, return_state=False))\n",
        "model.add(Dropout(0.2))\n",
        "\n",
        "model.add(Flatten())\n",
        "\n",
        "model.add(Dense(128, activation='relu'))\n",
        "model.add(Dropout(0.2))\n",
        "\n",
        "model.add(Dense(64, activation='relu'))\n",
        "model.add(Dropout(0.2))\n",
        "\n",
        "model.add(Dense(18, activation='softmax'))\n",
        "\n",
        "model.compile(loss='categorical_crossentropy', optimizer='adam', metrics=['accuracy'])\n",
        "print(model.summary())"
      ],
      "metadata": {
        "id": "RY4BQHgy7yfy",
        "colab": {
          "base_uri": "https://localhost:8080/"
        },
        "outputId": "42aed3d1-8fa2-454c-bccb-cac64a93d691"
      },
      "execution_count": 14,
      "outputs": [
        {
          "output_type": "stream",
          "name": "stdout",
          "text": [
            "Model: \"sequential\"\n",
            "_________________________________________________________________\n",
            " Layer (type)                Output Shape              Param #   \n",
            "=================================================================\n",
            " embedding (Embedding)       (None, 1000, 100)         46182900  \n",
            "                                                                 \n",
            " lstm (LSTM)                 (None, 1000, 128)         117248    \n",
            "                                                                 \n",
            " dropout (Dropout)           (None, 1000, 128)         0         \n",
            "                                                                 \n",
            " lstm_1 (LSTM)               (None, 1000, 64)          49408     \n",
            "                                                                 \n",
            " dropout_1 (Dropout)         (None, 1000, 64)          0         \n",
            "                                                                 \n",
            " flatten (Flatten)           (None, 64000)             0         \n",
            "                                                                 \n",
            " dense (Dense)               (None, 128)               8192128   \n",
            "                                                                 \n",
            " dropout_2 (Dropout)         (None, 128)               0         \n",
            "                                                                 \n",
            " dense_1 (Dense)             (None, 64)                8256      \n",
            "                                                                 \n",
            " dropout_3 (Dropout)         (None, 64)                0         \n",
            "                                                                 \n",
            " dense_2 (Dense)             (None, 18)                1170      \n",
            "                                                                 \n",
            "=================================================================\n",
            "Total params: 54,551,110\n",
            "Trainable params: 54,551,110\n",
            "Non-trainable params: 0\n",
            "_________________________________________________________________\n",
            "None\n"
          ]
        }
      ]
    },
    {
      "cell_type": "code",
      "source": [
        "batch_size = 128\n",
        "history = model.fit(X_train, y_train, \n",
        "                    epochs=10, \n",
        "                    batch_size=batch_size, \n",
        "                    validation_data=(X_test,y_test), \n",
        "                    class_weight=class_weights,\n",
        "                    verbose=1,\n",
        "                    callbacks=[EarlyStopping(monitor='val_accuracy', mode='max', patience=3, min_delta=0.001)])"
      ],
      "metadata": {
        "id": "bM6OrGz476XL"
      },
      "execution_count": 16,
      "outputs": []
    },
    {
      "cell_type": "code",
      "source": [
        "def plot_history(history):\n",
        "    acc = history.history['accuracy']\n",
        "    val_acc = history.history['val_accuracy']\n",
        "    loss = history.history['loss']\n",
        "    val_loss = history.history['val_loss']\n",
        "    x = range(1, len(acc) + 1)\n",
        "\n",
        "    plt.figure(figsize=(12, 5))\n",
        "    plt.subplot(1, 2, 1)\n",
        "    plt.plot(x, acc, 'b', label='Training acc')\n",
        "    plt.plot(x, val_acc, 'r', label='Validation acc')\n",
        "    plt.title('Training and validation accuracy')\n",
        "    plt.legend()\n",
        "    plt.subplot(1, 2, 2)\n",
        "    plt.plot(x, loss, 'b', label='Training loss')\n",
        "    plt.plot(x, val_loss, 'r', label='Validation loss')\n",
        "    plt.title('Training and validation loss')\n",
        "    plt.legend()"
      ],
      "metadata": {
        "id": "BYKJuq9F8kOk"
      },
      "execution_count": null,
      "outputs": []
    },
    {
      "cell_type": "code",
      "source": [
        "loss, accuracy = model.evaluate(X_train, y_train, verbose=False)\n",
        "print(\"Training Accuracy: {:.4f}\".format(accuracy))\n",
        "loss, accuracy = model.evaluate(X_test, y_test, verbose=False)\n",
        "print(\"Testing Accuracy:  {:.4f}\".format(accuracy))\n",
        "plot_history(history)"
      ],
      "metadata": {
        "id": "VzUvujGKqQkX"
      },
      "execution_count": null,
      "outputs": []
    },
    {
      "cell_type": "code",
      "source": [
        "# best model is model4\n",
        "import pickle\n",
        "filename = 'DL_model.pkl'\n",
        "pickle.dump(model, open(filename, 'wb'))"
      ],
      "metadata": {
        "id": "zKPeMy4_qT6b"
      },
      "execution_count": null,
      "outputs": []
    },
    {
      "cell_type": "code",
      "source": [
        "filename = 'tokenizer.pkl'\n",
        "pickle.dump(t, open(filename, 'wb'))"
      ],
      "metadata": {
        "id": "pjWySIQfqUh7"
      },
      "execution_count": null,
      "outputs": []
    }
  ]
}