{
  "nbformat": 4,
  "nbformat_minor": 0,
  "metadata": {
    "colab": {
      "name": "Untitled28.ipynb",
      "provenance": [],
      "collapsed_sections": []
    },
    "kernelspec": {
      "name": "python3",
      "display_name": "Python 3"
    },
    "language_info": {
      "name": "python"
    },
    "accelerator": "GPU"
  },
  "cells": [
    {
      "cell_type": "code",
      "execution_count": 1,
      "metadata": {
        "id": "r1A6FozXX4w1"
      },
      "outputs": [],
      "source": [
        "import numpy as np \n",
        "import pandas as pd\n",
        "import matplotlib.pyplot as plt\n",
        "import seaborn as sns\n",
        "from keras.preprocessing.text import Tokenizer\n",
        "from keras.preprocessing.sequence import pad_sequences\n",
        "from keras.models import Sequential, Model\n",
        "from keras.layers import Dense, Embedding, LSTM, SpatialDropout1D, Flatten, Dropout, Bidirectional, Input, GRU\n",
        "from sklearn.model_selection import train_test_split\n",
        "from keras.utils.np_utils import to_categorical\n",
        "from keras.callbacks import EarlyStopping\n",
        "from keras import optimizers \n",
        "import re\n",
        "import tensorflow as tf \n",
        "from nltk import word_tokenize\n",
        "from sklearn.feature_extraction.text import CountVectorizer\n",
        "import os\n",
        "from google.colab import drive "
      ]
    },
    {
      "cell_type": "code",
      "execution_count": 2,
      "metadata": {
        "colab": {
          "base_uri": "https://localhost:8080/"
        },
        "id": "4VhtCa67drci",
        "outputId": "6e89e53b-123a-41fc-8bb9-a59c8ec8bdcc"
      },
      "outputs": [
        {
          "output_type": "stream",
          "name": "stdout",
          "text": [
            "Mounted at /content/drive\n"
          ]
        }
      ],
      "source": [
        "drive.mount('/content/drive')\n",
        "df_path = \"/content/drive/MyDrive/AIM_Task/preprocessed_data.csv\"\n",
        "df = pd.read_csv(df_path)"
      ]
    },
    {
      "cell_type": "code",
      "execution_count": 3,
      "metadata": {
        "colab": {
          "base_uri": "https://localhost:8080/",
          "height": 424
        },
        "id": "gw7faM-zdwtr",
        "outputId": "58c102ba-a129-4063-9621-ce0a2e4fa7d8"
      },
      "outputs": [
        {
          "output_type": "execute_result",
          "data": {
            "text/plain": [
              "        dialect                                               text\n",
              "0            10                     اللي حابين يشاركون بالمسابقة  \n",
              "1            10  هل تعلم أنك تشاهد خشمك طوال الوقت لكن عقلك تبر...\n",
              "2            11   شو رح يقول الحريري بدي ك قلبو لسمير ججعج بس ارجع\n",
              "3            13              صح صح اذكر كانو يعبون لنا بترول ببلاش\n",
              "4             9    اساسا ماعندج القدره على الرد ثانيا شو انجازا...\n",
              "...         ...                                                ...\n",
              "458192       13  اللي يحط دعايات في اغاني اليهال ف يوتيوب الله ...\n",
              "458193       17                              قرف دى ملبن بالمكسرات\n",
              "458194       10  حنيتو لشتاء ايه الله يعين اندفنا من الغبار و س...\n",
              "458195       13    بتنتظر كثير لانهم ماهم بكفو يسونها السعايده ...\n",
              "458196        7                     اللي معنا ملوعتبي خاصه العصارة\n",
              "\n",
              "[458197 rows x 2 columns]"
            ],
            "text/html": [
              "\n",
              "  <div id=\"df-9dedd3dd-20cd-466b-8c93-eaf586cc0c46\">\n",
              "    <div class=\"colab-df-container\">\n",
              "      <div>\n",
              "<style scoped>\n",
              "    .dataframe tbody tr th:only-of-type {\n",
              "        vertical-align: middle;\n",
              "    }\n",
              "\n",
              "    .dataframe tbody tr th {\n",
              "        vertical-align: top;\n",
              "    }\n",
              "\n",
              "    .dataframe thead th {\n",
              "        text-align: right;\n",
              "    }\n",
              "</style>\n",
              "<table border=\"1\" class=\"dataframe\">\n",
              "  <thead>\n",
              "    <tr style=\"text-align: right;\">\n",
              "      <th></th>\n",
              "      <th>dialect</th>\n",
              "      <th>text</th>\n",
              "    </tr>\n",
              "  </thead>\n",
              "  <tbody>\n",
              "    <tr>\n",
              "      <th>0</th>\n",
              "      <td>10</td>\n",
              "      <td>اللي حابين يشاركون بالمسابقة</td>\n",
              "    </tr>\n",
              "    <tr>\n",
              "      <th>1</th>\n",
              "      <td>10</td>\n",
              "      <td>هل تعلم أنك تشاهد خشمك طوال الوقت لكن عقلك تبر...</td>\n",
              "    </tr>\n",
              "    <tr>\n",
              "      <th>2</th>\n",
              "      <td>11</td>\n",
              "      <td>شو رح يقول الحريري بدي ك قلبو لسمير ججعج بس ارجع</td>\n",
              "    </tr>\n",
              "    <tr>\n",
              "      <th>3</th>\n",
              "      <td>13</td>\n",
              "      <td>صح صح اذكر كانو يعبون لنا بترول ببلاش</td>\n",
              "    </tr>\n",
              "    <tr>\n",
              "      <th>4</th>\n",
              "      <td>9</td>\n",
              "      <td>اساسا ماعندج القدره على الرد ثانيا شو انجازا...</td>\n",
              "    </tr>\n",
              "    <tr>\n",
              "      <th>...</th>\n",
              "      <td>...</td>\n",
              "      <td>...</td>\n",
              "    </tr>\n",
              "    <tr>\n",
              "      <th>458192</th>\n",
              "      <td>13</td>\n",
              "      <td>اللي يحط دعايات في اغاني اليهال ف يوتيوب الله ...</td>\n",
              "    </tr>\n",
              "    <tr>\n",
              "      <th>458193</th>\n",
              "      <td>17</td>\n",
              "      <td>قرف دى ملبن بالمكسرات</td>\n",
              "    </tr>\n",
              "    <tr>\n",
              "      <th>458194</th>\n",
              "      <td>10</td>\n",
              "      <td>حنيتو لشتاء ايه الله يعين اندفنا من الغبار و س...</td>\n",
              "    </tr>\n",
              "    <tr>\n",
              "      <th>458195</th>\n",
              "      <td>13</td>\n",
              "      <td>بتنتظر كثير لانهم ماهم بكفو يسونها السعايده ...</td>\n",
              "    </tr>\n",
              "    <tr>\n",
              "      <th>458196</th>\n",
              "      <td>7</td>\n",
              "      <td>اللي معنا ملوعتبي خاصه العصارة</td>\n",
              "    </tr>\n",
              "  </tbody>\n",
              "</table>\n",
              "<p>458197 rows × 2 columns</p>\n",
              "</div>\n",
              "      <button class=\"colab-df-convert\" onclick=\"convertToInteractive('df-9dedd3dd-20cd-466b-8c93-eaf586cc0c46')\"\n",
              "              title=\"Convert this dataframe to an interactive table.\"\n",
              "              style=\"display:none;\">\n",
              "        \n",
              "  <svg xmlns=\"http://www.w3.org/2000/svg\" height=\"24px\"viewBox=\"0 0 24 24\"\n",
              "       width=\"24px\">\n",
              "    <path d=\"M0 0h24v24H0V0z\" fill=\"none\"/>\n",
              "    <path d=\"M18.56 5.44l.94 2.06.94-2.06 2.06-.94-2.06-.94-.94-2.06-.94 2.06-2.06.94zm-11 1L8.5 8.5l.94-2.06 2.06-.94-2.06-.94L8.5 2.5l-.94 2.06-2.06.94zm10 10l.94 2.06.94-2.06 2.06-.94-2.06-.94-.94-2.06-.94 2.06-2.06.94z\"/><path d=\"M17.41 7.96l-1.37-1.37c-.4-.4-.92-.59-1.43-.59-.52 0-1.04.2-1.43.59L10.3 9.45l-7.72 7.72c-.78.78-.78 2.05 0 2.83L4 21.41c.39.39.9.59 1.41.59.51 0 1.02-.2 1.41-.59l7.78-7.78 2.81-2.81c.8-.78.8-2.07 0-2.86zM5.41 20L4 18.59l7.72-7.72 1.47 1.35L5.41 20z\"/>\n",
              "  </svg>\n",
              "      </button>\n",
              "      \n",
              "  <style>\n",
              "    .colab-df-container {\n",
              "      display:flex;\n",
              "      flex-wrap:wrap;\n",
              "      gap: 12px;\n",
              "    }\n",
              "\n",
              "    .colab-df-convert {\n",
              "      background-color: #E8F0FE;\n",
              "      border: none;\n",
              "      border-radius: 50%;\n",
              "      cursor: pointer;\n",
              "      display: none;\n",
              "      fill: #1967D2;\n",
              "      height: 32px;\n",
              "      padding: 0 0 0 0;\n",
              "      width: 32px;\n",
              "    }\n",
              "\n",
              "    .colab-df-convert:hover {\n",
              "      background-color: #E2EBFA;\n",
              "      box-shadow: 0px 1px 2px rgba(60, 64, 67, 0.3), 0px 1px 3px 1px rgba(60, 64, 67, 0.15);\n",
              "      fill: #174EA6;\n",
              "    }\n",
              "\n",
              "    [theme=dark] .colab-df-convert {\n",
              "      background-color: #3B4455;\n",
              "      fill: #D2E3FC;\n",
              "    }\n",
              "\n",
              "    [theme=dark] .colab-df-convert:hover {\n",
              "      background-color: #434B5C;\n",
              "      box-shadow: 0px 1px 3px 1px rgba(0, 0, 0, 0.15);\n",
              "      filter: drop-shadow(0px 1px 2px rgba(0, 0, 0, 0.3));\n",
              "      fill: #FFFFFF;\n",
              "    }\n",
              "  </style>\n",
              "\n",
              "      <script>\n",
              "        const buttonEl =\n",
              "          document.querySelector('#df-9dedd3dd-20cd-466b-8c93-eaf586cc0c46 button.colab-df-convert');\n",
              "        buttonEl.style.display =\n",
              "          google.colab.kernel.accessAllowed ? 'block' : 'none';\n",
              "\n",
              "        async function convertToInteractive(key) {\n",
              "          const element = document.querySelector('#df-9dedd3dd-20cd-466b-8c93-eaf586cc0c46');\n",
              "          const dataTable =\n",
              "            await google.colab.kernel.invokeFunction('convertToInteractive',\n",
              "                                                     [key], {});\n",
              "          if (!dataTable) return;\n",
              "\n",
              "          const docLinkHtml = 'Like what you see? Visit the ' +\n",
              "            '<a target=\"_blank\" href=https://colab.research.google.com/notebooks/data_table.ipynb>data table notebook</a>'\n",
              "            + ' to learn more about interactive tables.';\n",
              "          element.innerHTML = '';\n",
              "          dataTable['output_type'] = 'display_data';\n",
              "          await google.colab.output.renderOutput(dataTable, element);\n",
              "          const docLink = document.createElement('div');\n",
              "          docLink.innerHTML = docLinkHtml;\n",
              "          element.appendChild(docLink);\n",
              "        }\n",
              "      </script>\n",
              "    </div>\n",
              "  </div>\n",
              "  "
            ]
          },
          "metadata": {},
          "execution_count": 3
        }
      ],
      "source": [
        "df"
      ]
    },
    {
      "cell_type": "code",
      "execution_count": 4,
      "metadata": {
        "id": "7tBTd-Pvd5x_"
      },
      "outputs": [],
      "source": [
        "df_copy = df.copy()"
      ]
    },
    {
      "cell_type": "code",
      "execution_count": 6,
      "metadata": {
        "id": "QkGd6TMyeN7-"
      },
      "outputs": [],
      "source": [
        "X = df_copy['text'].values\n",
        "X_test = X[:20000]\n",
        "X_train = X[20000:]\n",
        "\n",
        "# y = pd.get_dummies(df_copy['dialect']).values\n",
        "y = df_copy['dialect']\n",
        "y_test = y[:20000]\n",
        "y_train = y[20000:]"
      ]
    },
    {
      "cell_type": "code",
      "execution_count": 7,
      "metadata": {
        "id": "dY7tgXETePjR"
      },
      "outputs": [],
      "source": [
        "t = Tokenizer(oov_token='<UNK>')\n",
        "t.fit_on_texts(X_train)"
      ]
    },
    {
      "cell_type": "code",
      "execution_count": 8,
      "metadata": {
        "colab": {
          "base_uri": "https://localhost:8080/"
        },
        "id": "xRA61NBTfJTP",
        "outputId": "aaf141bb-2c10-469b-e3ca-28fd013b905c"
      },
      "outputs": [
        {
          "output_type": "execute_result",
          "data": {
            "text/plain": [
              "(('ملوعتبي', 461828), ('<PAD>', 0), 1)"
            ]
          },
          "metadata": {},
          "execution_count": 8
        }
      ],
      "source": [
        "max([(k, v) for k, v in t.word_index.items()], key = lambda x:x[1]), min([(k, v) for k, v in t.word_index.items()], key = lambda x:x[1]), t.word_index['<UNK>']"
      ]
    },
    {
      "cell_type": "code",
      "source": [
        "train_sequences = t.texts_to_sequences(X_train)\n",
        "test_sequences = t.texts_to_sequences(X_test)"
      ],
      "metadata": {
        "id": "R2bBuP6ICDn0"
      },
      "execution_count": 9,
      "outputs": []
    },
    {
      "cell_type": "code",
      "source": [
        "# Max number of words in each complaint.\n",
        "MAX_SEQUENCE_LENGTH = 1000\n",
        "\n",
        "X_train = pad_sequences(train_sequences, maxlen=MAX_SEQUENCE_LENGTH)\n",
        "X_test = pad_sequences(test_sequences, maxlen=MAX_SEQUENCE_LENGTH)\n",
        "X_train.shape, X_test.shape"
      ],
      "metadata": {
        "id": "WspkM6FACEgi",
        "colab": {
          "base_uri": "https://localhost:8080/"
        },
        "outputId": "c51904d6-9b73-4453-9dde-149bb8018e85"
      },
      "execution_count": 10,
      "outputs": [
        {
          "output_type": "execute_result",
          "data": {
            "text/plain": [
              "((438197, 1000), (20000, 1000))"
            ]
          },
          "metadata": {},
          "execution_count": 10
        }
      ]
    },
    {
      "cell_type": "code",
      "execution_count": 11,
      "metadata": {
        "id": "STQ-Cj6jq38g"
      },
      "outputs": [],
      "source": [
        "from sklearn.utils import class_weight \n",
        "class_weights = class_weight.compute_class_weight('balanced',\n",
        "                                                   classes = np.unique(df_copy['dialect']),\n",
        "                                                   y = df_copy['dialect'])"
      ]
    },
    {
      "cell_type": "code",
      "execution_count": 12,
      "metadata": {
        "id": "MWjNrECRq9Rm"
      },
      "outputs": [],
      "source": [
        "class_weights = dict(enumerate(class_weights))"
      ]
    },
    {
      "cell_type": "code",
      "execution_count": 13,
      "metadata": {
        "colab": {
          "base_uri": "https://localhost:8080/"
        },
        "id": "OMsrdb1Eq_jD",
        "outputId": "4275a3a7-1bf1-48e8-f7bf-aadda6fcc58a"
      },
      "outputs": [
        {
          "output_type": "execute_result",
          "data": {
            "text/plain": [
              "{0: 2.7531244742471217,\n",
              " 1: 2.56425797208511,\n",
              " 2: 2.2060307556017755,\n",
              " 3: 1.76357135159269,\n",
              " 4: 1.6426010769109434,\n",
              " 5: 1.5729709503113694,\n",
              " 6: 1.5672570427834558,\n",
              " 7: 1.3316273743925973,\n",
              " 8: 0.968180012509086,\n",
              " 9: 0.9680327383970524,\n",
              " 10: 0.9486951732591268,\n",
              " 11: 0.9217289672625154,\n",
              " 12: 0.9116933092972633,\n",
              " 13: 0.8193179339176957,\n",
              " 14: 0.6974270223537327,\n",
              " 15: 0.604511835685694,\n",
              " 16: 0.5819438729113641,\n",
              " 17: 0.441657798752323}"
            ]
          },
          "metadata": {},
          "execution_count": 13
        }
      ],
      "source": [
        "class_weights"
      ]
    },
    {
      "cell_type": "code",
      "execution_count": 20,
      "metadata": {
        "id": "NMbo_vY9lDXg"
      },
      "outputs": [],
      "source": [
        "from sklearn.feature_extraction.text import CountVectorizer\n",
        "from sklearn.feature_extraction.text import TfidfTransformer\n",
        "from sklearn.pipeline import Pipeline\n",
        "def train_model(model, data, targets):\n",
        "    text_clf = Pipeline([\n",
        "    ('clf', model),\n",
        "    ])\n",
        "    text_clf.fit(data, targets)\n",
        "    return text_clf\n",
        "def get_accuracy(trained_model,X, y):\n",
        "    predicted = trained_model.predict(X)\n",
        "    accuracy = np.mean(predicted == y)\n",
        "    return accuracy"
      ]
    },
    {
      "cell_type": "code",
      "execution_count": 21,
      "metadata": {
        "colab": {
          "base_uri": "https://localhost:8080/"
        },
        "id": "7PAnQnMZoN_A",
        "outputId": "ca895eb5-2a11-4718-d66b-d46e32ad4a81"
      },
      "outputs": [
        {
          "output_type": "stream",
          "name": "stdout",
          "text": [
            "0.06245\n"
          ]
        }
      ],
      "source": [
        "from sklearn.naive_bayes import MultinomialNB\n",
        "trained_clf_multinomial_nb = train_model(MultinomialNB(), X_train, y_train)\n",
        "accuracy = get_accuracy(trained_clf_multinomial_nb,X_test, y_test)\n",
        "print(accuracy)"
      ]
    },
    {
      "cell_type": "code",
      "execution_count": 22,
      "metadata": {
        "colab": {
          "base_uri": "https://localhost:8080/"
        },
        "id": "IOa3_Plgphdv",
        "outputId": "230cccac-d6ef-4186-ea39-c33d62570c6f"
      },
      "outputs": [
        {
          "output_type": "stream",
          "name": "stderr",
          "text": [
            "/usr/local/lib/python3.7/dist-packages/sklearn/linear_model/_logistic.py:818: ConvergenceWarning: lbfgs failed to converge (status=1):\n",
            "STOP: TOTAL NO. of ITERATIONS REACHED LIMIT.\n",
            "\n",
            "Increase the number of iterations (max_iter) or scale the data as shown in:\n",
            "    https://scikit-learn.org/stable/modules/preprocessing.html\n",
            "Please also refer to the documentation for alternative solver options:\n",
            "    https://scikit-learn.org/stable/modules/linear_model.html#logistic-regression\n",
            "  extra_warning_msg=_LOGISTIC_SOLVER_CONVERGENCE_MSG,\n"
          ]
        },
        {
          "output_type": "stream",
          "name": "stdout",
          "text": [
            "0.03655\n"
          ]
        }
      ],
      "source": [
        "from sklearn.linear_model import LogisticRegression\n",
        "trained_clf_LogisticRegression = train_model(LogisticRegression(class_weight=class_weights), X_train, y_train)\n",
        "accuracy = get_accuracy(trained_clf_LogisticRegression,X_test, y_test)\n",
        "print(accuracy)"
      ]
    },
    {
      "cell_type": "code",
      "execution_count": null,
      "metadata": {
        "id": "I_Qtf5--pm-S"
      },
      "outputs": [],
      "source": [
        "from sklearn.linear_model import SGDClassifier\n",
        "trained_clf_SGDClassifier = train_model(SGDClassifier(class_weight=class_weights), X_train, y_train)\n",
        "accuracy = get_accuracy(trained_clf_SGDClassifier,X_test, y_test)\n",
        "print(accuracy)"
      ]
    },
    {
      "cell_type": "code",
      "execution_count": null,
      "metadata": {
        "id": "Lu4ZFjE4rV9B"
      },
      "outputs": [],
      "source": [
        "from sklearn.svm import LinearSVC\n",
        "trained_clf_LinearSVC = train_model(LinearSVC(), X_train, y_train)\n",
        "accuracy = get_accuracy(trained_clf_LinearSVC,X_test, y_test)\n",
        "print(accuracy)"
      ]
    }
  ]
}